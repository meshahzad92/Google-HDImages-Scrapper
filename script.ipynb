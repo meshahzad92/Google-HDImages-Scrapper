{
 "cells": [
  {
   "cell_type": "markdown",
   "metadata": {},
   "source": [
    "## PERFECT\n"
   ]
  },
  {
   "cell_type": "code",
   "execution_count": 36,
   "metadata": {},
   "outputs": [
    {
     "name": "stdout",
     "output_type": "stream",
     "text": [
      "\n",
      "Processing image 1...\n",
      "Image div found: <selenium.webdriver.remote.webelement.WebElement (session=\"d86b94b09276be91c1c0df42c31b483b\", element=\"f.E9D72C1883F1A329D88A87D0A8C97C74.d.F469FD25825C129066296024F05D561F.e.54\")>\n",
      "Successfully found the required image.\n",
      "Image 1 URL: https://upload.wikimedia.org/wikipedia/commons/c/c8/Badshahi_Mosque_front_picture.jpg\n",
      "\n",
      "Processing image 2...\n",
      "Image div found: <selenium.webdriver.remote.webelement.WebElement (session=\"d86b94b09276be91c1c0df42c31b483b\", element=\"f.E9D72C1883F1A329D88A87D0A8C97C74.d.F469FD25825C129066296024F05D561F.e.57\")>\n",
      "Successfully found the required image.\n",
      "Image 2 URL: https://dynamic-media-cdn.tripadvisor.com/media/photo-o/15/c6/75/fe/badshahi-masjid-lahore.jpg?w=1200&h=-1&s=1\n",
      "\n",
      "Processing image 3...\n",
      "Image div found: <selenium.webdriver.remote.webelement.WebElement (session=\"d86b94b09276be91c1c0df42c31b483b\", element=\"f.E9D72C1883F1A329D88A87D0A8C97C74.d.F469FD25825C129066296024F05D561F.e.63\")>\n",
      "Successfully found the required image.\n",
      "Image 3 URL: https://www.architecturecourses.org/sites/default/files/2024-06/new-badshahi-masjid-royal-mosque-lahore-pakistan.webp\n",
      "ok\n"
     ]
    }
   ],
   "source": [
    "from selenium import webdriver\n",
    "from selenium.webdriver.common.by import By\n",
    "from selenium.webdriver.common.keys import Keys\n",
    "from selenium.webdriver.chrome.service import Service\n",
    "from selenium.webdriver.support.ui import WebDriverWait\n",
    "from selenium.webdriver.support import expected_conditions as EC\n",
    "from webdriver_manager.chrome import ChromeDriverManager\n",
    "import time\n",
    "\n",
    "# Set up Chrome WebDriver\n",
    "options = webdriver.ChromeOptions()\n",
    "driver = webdriver.Chrome(service=Service(ChromeDriverManager().install()), options=options)\n",
    "\n",
    "try:\n",
    "    # Open Google Images\n",
    "    driver.get(\"https://www.google.com/imghp\")\n",
    "\n",
    "    query=\"Badshahi mosque\"\n",
    "\n",
    "    search_box = driver.find_element(By.NAME, \"q\")\n",
    "    search_box.send_keys(query + Keys.RETURN)\n",
    "\n",
    "    # Wait for images to load\n",
    "    time.sleep(3)\n",
    "\n",
    "    for i in range(1, 4):  # Loop through divs 1, 2, and 3\n",
    "        print(f\"\\nProcessing image {i}...\")\n",
    "\n",
    "        image_div_xpath = f\"/html/body/div[3]/div/div[14]/div/div[2]/div[2]/div/div/div/div/div[1]/div/div/div[{i}]\"\n",
    "\n",
    "        first_image_div = driver.find_element(By.XPATH, image_div_xpath)\n",
    "        print(\"Image div found:\", first_image_div)\n",
    "\n",
    "        first_image_div.click()\n",
    "        \n",
    "        time.sleep(2)\n",
    "\n",
    "        # Locate the preview div\n",
    "        preview_div = WebDriverWait(driver, 5).until(\n",
    "            EC.presence_of_element_located((By.XPATH, \"//div[@class='BIB1wf EIehLd fHE6De Emjfjd' and @jsname='CGzTgf']\"))\n",
    "        )\n",
    "\n",
    "        # Inside this div, find the <img> tag that has the target class\n",
    "        image_element = WebDriverWait(preview_div, 5).until(\n",
    "            EC.presence_of_element_located((By.XPATH, \".//img[contains(@class, 'sFlh5c FyHeAf iPVvYb')]\"))\n",
    "        )\n",
    "\n",
    "        print(\"Successfully found the required image.\")\n",
    "\n",
    "        # Extract the src attribute of the image\n",
    "        image_src = image_element.get_attribute(\"src\")\n",
    "        print(f\"Image {i} URL:\", image_src)\n",
    "\n",
    "except Exception as e:\n",
    "    print(\"Error:\", e)\n",
    "\n",
    "finally:\n",
    "    # Close the browser\n",
    "    #driver.quit()\n",
    "    print(\"ok\")\n"
   ]
  }
 ],
 "metadata": {
  "kernelspec": {
   "display_name": "Python 3",
   "language": "python",
   "name": "python3"
  },
  "language_info": {
   "codemirror_mode": {
    "name": "ipython",
    "version": 3
   },
   "file_extension": ".py",
   "mimetype": "text/x-python",
   "name": "python",
   "nbconvert_exporter": "python",
   "pygments_lexer": "ipython3",
   "version": "3.12.7"
  }
 },
 "nbformat": 4,
 "nbformat_minor": 2
}
